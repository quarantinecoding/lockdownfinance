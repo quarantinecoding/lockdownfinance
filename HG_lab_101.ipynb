{
  "nbformat": 4,
  "nbformat_minor": 0,
  "metadata": {
    "colab": {
      "name": "Untitled1.ipynb",
      "provenance": [],
      "mount_file_id": "https://github.com/quarantinecoding/lockdownfinance/blob/master/HG_lab_101.ipynb",
      "authorship_tag": "ABX9TyNfwqBN++4WJxIeHMWnaIQe",
      "include_colab_link": true
    },
    "kernelspec": {
      "name": "python3",
      "display_name": "Python 3"
    }
  },
  "cells": [
    {
      "cell_type": "markdown",
      "metadata": {
        "id": "view-in-github",
        "colab_type": "text"
      },
      "source": [
        "<a href=\"https://colab.research.google.com/github/quarantinecoding/lockdownfinance/blob/master/HG_lab_101.ipynb\" target=\"_parent\"><img src=\"https://colab.research.google.com/assets/colab-badge.svg\" alt=\"Open In Colab\"/></a>"
      ]
    },
    {
      "cell_type": "markdown",
      "metadata": {
        "id": "NrJp64s9GYW2",
        "colab_type": "text"
      },
      "source": [
        "HSG_Investment Management course - Lab 101 File"
      ]
    },
    {
      "cell_type": "markdown",
      "metadata": {
        "id": "PAUAlKhl9AIV",
        "colab_type": "text"
      },
      "source": [
        "## Basics - numpy & pandas, %age, array manipulation"
      ]
    },
    {
      "cell_type": "code",
      "metadata": {
        "id": "BWiTGiAKGWEx",
        "colab_type": "code",
        "colab": {}
      },
      "source": [
        "import numpy as np\n",
        "import pandas as pd\n",
        "prices_a=[8.70,8.91,8.71]"
      ],
      "execution_count": 0,
      "outputs": []
    },
    {
      "cell_type": "code",
      "metadata": {
        "id": "gqJDulHgJl-Y",
        "colab_type": "code",
        "outputId": "c2958b01-b486-4e8e-fdb0-6c0b6bcecba2",
        "colab": {
          "base_uri": "https://localhost:8080/",
          "height": 34
        }
      },
      "source": [
        "print(round(8.91/8.70,2),round(8.71/8.91,2))"
      ],
      "execution_count": 3,
      "outputs": [
        {
          "output_type": "stream",
          "text": [
            "1.02 0.98\n"
          ],
          "name": "stdout"
        }
      ]
    },
    {
      "cell_type": "code",
      "metadata": {
        "id": "ZyFrQVERKDO9",
        "colab_type": "code",
        "outputId": "f832fc53-d4d8-417e-de13-793b379a5a9f",
        "colab": {
          "base_uri": "https://localhost:8080/",
          "height": 34
        }
      },
      "source": [
        "print(prices_a[1:],prices_a[:-1])"
      ],
      "execution_count": 4,
      "outputs": [
        {
          "output_type": "stream",
          "text": [
            "[8.91, 8.71] [8.7, 8.91]\n"
          ],
          "name": "stdout"
        }
      ]
    },
    {
      "cell_type": "code",
      "metadata": {
        "id": "CncUPHVGKpob",
        "colab_type": "code",
        "outputId": "5e627d7f-2d59-4b78-f614-dd8bc0fa1496",
        "colab": {
          "base_uri": "https://localhost:8080/",
          "height": 34
        }
      },
      "source": [
        "# Numpy variation\n",
        "prices_np=np.array(prices_a)\n",
        "prices_np"
      ],
      "execution_count": 5,
      "outputs": [
        {
          "output_type": "execute_result",
          "data": {
            "text/plain": [
              "array([8.7 , 8.91, 8.71])"
            ]
          },
          "metadata": {
            "tags": []
          },
          "execution_count": 5
        }
      ]
    },
    {
      "cell_type": "code",
      "metadata": {
        "id": "fthto9fTMJk8",
        "colab_type": "code",
        "outputId": "5c5759bb-c0c7-4975-c968-5818c877851e",
        "colab": {
          "base_uri": "https://localhost:8080/",
          "height": 34
        }
      },
      "source": [
        "print(prices_np[1:],prices_np[:-1],prices_np[1:]/prices_np[:-1]-1)"
      ],
      "execution_count": 6,
      "outputs": [
        {
          "output_type": "stream",
          "text": [
            "[8.91 8.71] [8.7  8.91] [ 0.02413793 -0.02244669]\n"
          ],
          "name": "stdout"
        }
      ]
    },
    {
      "cell_type": "code",
      "metadata": {
        "id": "xJoVJ0--Moa5",
        "colab_type": "code",
        "colab": {}
      },
      "source": [
        "import pandas as pd\n",
        "prices_pd=pd.DataFrame({\"BLUE\":[8.70, 8.91, 8.71, 8.43, 8.73],\"ORANGE\":[10.66, 11.08, 10.71, 11.59, 12.11]},index=[\"y0\",\"y1\",\"y2\",\"y3\",\"y4\"])"
      ],
      "execution_count": 0,
      "outputs": []
    },
    {
      "cell_type": "code",
      "metadata": {
        "id": "8cKNXMNfPKD8",
        "colab_type": "code",
        "outputId": "f1eb2f2a-3e68-4697-b350-d1c687882003",
        "colab": {
          "base_uri": "https://localhost:8080/",
          "height": 204
        }
      },
      "source": [
        "prices_pd"
      ],
      "execution_count": 8,
      "outputs": [
        {
          "output_type": "execute_result",
          "data": {
            "text/html": [
              "<div>\n",
              "<style scoped>\n",
              "    .dataframe tbody tr th:only-of-type {\n",
              "        vertical-align: middle;\n",
              "    }\n",
              "\n",
              "    .dataframe tbody tr th {\n",
              "        vertical-align: top;\n",
              "    }\n",
              "\n",
              "    .dataframe thead th {\n",
              "        text-align: right;\n",
              "    }\n",
              "</style>\n",
              "<table border=\"1\" class=\"dataframe\">\n",
              "  <thead>\n",
              "    <tr style=\"text-align: right;\">\n",
              "      <th></th>\n",
              "      <th>BLUE</th>\n",
              "      <th>ORANGE</th>\n",
              "    </tr>\n",
              "  </thead>\n",
              "  <tbody>\n",
              "    <tr>\n",
              "      <th>y0</th>\n",
              "      <td>8.70</td>\n",
              "      <td>10.66</td>\n",
              "    </tr>\n",
              "    <tr>\n",
              "      <th>y1</th>\n",
              "      <td>8.91</td>\n",
              "      <td>11.08</td>\n",
              "    </tr>\n",
              "    <tr>\n",
              "      <th>y2</th>\n",
              "      <td>8.71</td>\n",
              "      <td>10.71</td>\n",
              "    </tr>\n",
              "    <tr>\n",
              "      <th>y3</th>\n",
              "      <td>8.43</td>\n",
              "      <td>11.59</td>\n",
              "    </tr>\n",
              "    <tr>\n",
              "      <th>y4</th>\n",
              "      <td>8.73</td>\n",
              "      <td>12.11</td>\n",
              "    </tr>\n",
              "  </tbody>\n",
              "</table>\n",
              "</div>"
            ],
            "text/plain": [
              "    BLUE  ORANGE\n",
              "y0  8.70   10.66\n",
              "y1  8.91   11.08\n",
              "y2  8.71   10.71\n",
              "y3  8.43   11.59\n",
              "y4  8.73   12.11"
            ]
          },
          "metadata": {
            "tags": []
          },
          "execution_count": 8
        }
      ]
    },
    {
      "cell_type": "code",
      "metadata": {
        "id": "p5gUBRcxPm63",
        "colab_type": "code",
        "outputId": "10f987cd-8d28-4a1b-e1d8-b3d3340a0401",
        "colab": {
          "base_uri": "https://localhost:8080/",
          "height": 173
        }
      },
      "source": [
        "prices_pd.iloc[1:]/prices_pd.iloc[:-1].values-1"
      ],
      "execution_count": 9,
      "outputs": [
        {
          "output_type": "execute_result",
          "data": {
            "text/html": [
              "<div>\n",
              "<style scoped>\n",
              "    .dataframe tbody tr th:only-of-type {\n",
              "        vertical-align: middle;\n",
              "    }\n",
              "\n",
              "    .dataframe tbody tr th {\n",
              "        vertical-align: top;\n",
              "    }\n",
              "\n",
              "    .dataframe thead th {\n",
              "        text-align: right;\n",
              "    }\n",
              "</style>\n",
              "<table border=\"1\" class=\"dataframe\">\n",
              "  <thead>\n",
              "    <tr style=\"text-align: right;\">\n",
              "      <th></th>\n",
              "      <th>BLUE</th>\n",
              "      <th>ORANGE</th>\n",
              "    </tr>\n",
              "  </thead>\n",
              "  <tbody>\n",
              "    <tr>\n",
              "      <th>y1</th>\n",
              "      <td>0.024138</td>\n",
              "      <td>0.039400</td>\n",
              "    </tr>\n",
              "    <tr>\n",
              "      <th>y2</th>\n",
              "      <td>-0.022447</td>\n",
              "      <td>-0.033394</td>\n",
              "    </tr>\n",
              "    <tr>\n",
              "      <th>y3</th>\n",
              "      <td>-0.032147</td>\n",
              "      <td>0.082166</td>\n",
              "    </tr>\n",
              "    <tr>\n",
              "      <th>y4</th>\n",
              "      <td>0.035587</td>\n",
              "      <td>0.044866</td>\n",
              "    </tr>\n",
              "  </tbody>\n",
              "</table>\n",
              "</div>"
            ],
            "text/plain": [
              "        BLUE    ORANGE\n",
              "y1  0.024138  0.039400\n",
              "y2 -0.022447 -0.033394\n",
              "y3 -0.032147  0.082166\n",
              "y4  0.035587  0.044866"
            ]
          },
          "metadata": {
            "tags": []
          },
          "execution_count": 9
        }
      ]
    },
    {
      "cell_type": "code",
      "metadata": {
        "id": "OmRjK1U3SRjm",
        "colab_type": "code",
        "outputId": "cda6e4a0-0e7b-4134-9755-8332f9ee65c4",
        "colab": {
          "base_uri": "https://localhost:8080/",
          "height": 204
        }
      },
      "source": [
        "prices_pd/prices_pd.shift(1)-1"
      ],
      "execution_count": 10,
      "outputs": [
        {
          "output_type": "execute_result",
          "data": {
            "text/html": [
              "<div>\n",
              "<style scoped>\n",
              "    .dataframe tbody tr th:only-of-type {\n",
              "        vertical-align: middle;\n",
              "    }\n",
              "\n",
              "    .dataframe tbody tr th {\n",
              "        vertical-align: top;\n",
              "    }\n",
              "\n",
              "    .dataframe thead th {\n",
              "        text-align: right;\n",
              "    }\n",
              "</style>\n",
              "<table border=\"1\" class=\"dataframe\">\n",
              "  <thead>\n",
              "    <tr style=\"text-align: right;\">\n",
              "      <th></th>\n",
              "      <th>BLUE</th>\n",
              "      <th>ORANGE</th>\n",
              "    </tr>\n",
              "  </thead>\n",
              "  <tbody>\n",
              "    <tr>\n",
              "      <th>y0</th>\n",
              "      <td>NaN</td>\n",
              "      <td>NaN</td>\n",
              "    </tr>\n",
              "    <tr>\n",
              "      <th>y1</th>\n",
              "      <td>0.024138</td>\n",
              "      <td>0.039400</td>\n",
              "    </tr>\n",
              "    <tr>\n",
              "      <th>y2</th>\n",
              "      <td>-0.022447</td>\n",
              "      <td>-0.033394</td>\n",
              "    </tr>\n",
              "    <tr>\n",
              "      <th>y3</th>\n",
              "      <td>-0.032147</td>\n",
              "      <td>0.082166</td>\n",
              "    </tr>\n",
              "    <tr>\n",
              "      <th>y4</th>\n",
              "      <td>0.035587</td>\n",
              "      <td>0.044866</td>\n",
              "    </tr>\n",
              "  </tbody>\n",
              "</table>\n",
              "</div>"
            ],
            "text/plain": [
              "        BLUE    ORANGE\n",
              "y0       NaN       NaN\n",
              "y1  0.024138  0.039400\n",
              "y2 -0.022447 -0.033394\n",
              "y3 -0.032147  0.082166\n",
              "y4  0.035587  0.044866"
            ]
          },
          "metadata": {
            "tags": []
          },
          "execution_count": 10
        }
      ]
    },
    {
      "cell_type": "code",
      "metadata": {
        "id": "Mj54ZDITSkQS",
        "colab_type": "code",
        "outputId": "ad06425c-6f35-4fde-a3e6-9b4587f7a130",
        "colab": {
          "base_uri": "https://localhost:8080/",
          "height": 204
        }
      },
      "source": [
        "prices_pd.pct_change()"
      ],
      "execution_count": 11,
      "outputs": [
        {
          "output_type": "execute_result",
          "data": {
            "text/html": [
              "<div>\n",
              "<style scoped>\n",
              "    .dataframe tbody tr th:only-of-type {\n",
              "        vertical-align: middle;\n",
              "    }\n",
              "\n",
              "    .dataframe tbody tr th {\n",
              "        vertical-align: top;\n",
              "    }\n",
              "\n",
              "    .dataframe thead th {\n",
              "        text-align: right;\n",
              "    }\n",
              "</style>\n",
              "<table border=\"1\" class=\"dataframe\">\n",
              "  <thead>\n",
              "    <tr style=\"text-align: right;\">\n",
              "      <th></th>\n",
              "      <th>BLUE</th>\n",
              "      <th>ORANGE</th>\n",
              "    </tr>\n",
              "  </thead>\n",
              "  <tbody>\n",
              "    <tr>\n",
              "      <th>y0</th>\n",
              "      <td>NaN</td>\n",
              "      <td>NaN</td>\n",
              "    </tr>\n",
              "    <tr>\n",
              "      <th>y1</th>\n",
              "      <td>0.024138</td>\n",
              "      <td>0.039400</td>\n",
              "    </tr>\n",
              "    <tr>\n",
              "      <th>y2</th>\n",
              "      <td>-0.022447</td>\n",
              "      <td>-0.033394</td>\n",
              "    </tr>\n",
              "    <tr>\n",
              "      <th>y3</th>\n",
              "      <td>-0.032147</td>\n",
              "      <td>0.082166</td>\n",
              "    </tr>\n",
              "    <tr>\n",
              "      <th>y4</th>\n",
              "      <td>0.035587</td>\n",
              "      <td>0.044866</td>\n",
              "    </tr>\n",
              "  </tbody>\n",
              "</table>\n",
              "</div>"
            ],
            "text/plain": [
              "        BLUE    ORANGE\n",
              "y0       NaN       NaN\n",
              "y1  0.024138  0.039400\n",
              "y2 -0.022447 -0.033394\n",
              "y3 -0.032147  0.082166\n",
              "y4  0.035587  0.044866"
            ]
          },
          "metadata": {
            "tags": []
          },
          "execution_count": 11
        }
      ]
    },
    {
      "cell_type": "markdown",
      "metadata": {
        "id": "eKJ-C9_S8nMQ",
        "colab_type": "text"
      },
      "source": [
        "## CSV Import, %age, Plotting"
      ]
    },
    {
      "cell_type": "code",
      "metadata": {
        "id": "wJVUX_CfS8s_",
        "colab_type": "code",
        "colab": {}
      },
      "source": [
        "prices_csv=pd.read_csv(\"drive/My Drive/Colab Notebooks/data/sample_prices.csv\")"
      ],
      "execution_count": 0,
      "outputs": []
    },
    {
      "cell_type": "code",
      "metadata": {
        "id": "hTerDgRGU6T8",
        "colab_type": "code",
        "outputId": "cb6e4816-7af2-4410-f0e4-36afb4edb9e4",
        "colab": {
          "base_uri": "https://localhost:8080/",
          "height": 282
        }
      },
      "source": [
        "import matplotlib\n",
        "prices_csv.plot()"
      ],
      "execution_count": 14,
      "outputs": [
        {
          "output_type": "execute_result",
          "data": {
            "text/plain": [
              "<matplotlib.axes._subplots.AxesSubplot at 0x7f4381007128>"
            ]
          },
          "metadata": {
            "tags": []
          },
          "execution_count": 14
        },
        {
          "output_type": "display_data",
          "data": {
            "image/png": "[encoded data removed]",
            "text/plain": [
              "<Figure size 432x288 with 1 Axes>"
            ]
          },
          "metadata": {
            "tags": []
          }
        }
      ]
    },
    {
      "cell_type": "code",
      "metadata": {
        "id": "EO18qTnfVR5e",
        "colab_type": "code",
        "colab": {}
      },
      "source": [
        "returns=prices_csv.pct_change()"
      ],
      "execution_count": 0,
      "outputs": []
    },
    {
      "cell_type": "code",
      "metadata": {
        "id": "_IvOaay3VrcW",
        "colab_type": "code",
        "outputId": "4d931fa3-75bb-45b8-dbcf-a2b5baf17dde",
        "colab": {
          "base_uri": "https://localhost:8080/",
          "height": 282
        }
      },
      "source": [
        "returns.plot()"
      ],
      "execution_count": 16,
      "outputs": [
        {
          "output_type": "execute_result",
          "data": {
            "text/plain": [
              "<matplotlib.axes._subplots.AxesSubplot at 0x7f4380b05e48>"
            ]
          },
          "metadata": {
            "tags": []
          },
          "execution_count": 16
        },
        {
          "output_type": "display_data",
          "data": {
            "image/png": "[encoded data removed]",
            "text/plain": [
              "<Figure size 432x288 with 1 Axes>"
            ]
          },
          "metadata": {
            "tags": []
          }
        }
      ]
    },
    {
      "cell_type": "code",
      "metadata": {
        "id": "htYOvMLfVufd",
        "colab_type": "code",
        "outputId": "791624ae-2fff-4f39-ea01-3af11727746c",
        "colab": {
          "base_uri": "https://localhost:8080/",
          "height": 285
        }
      },
      "source": [
        "returns.plot(kind=\"bar\")"
      ],
      "execution_count": 18,
      "outputs": [
        {
          "output_type": "execute_result",
          "data": {
            "text/plain": [
              "<matplotlib.axes._subplots.AxesSubplot at 0x7f4380a21c50>"
            ]
          },
          "metadata": {
            "tags": []
          },
          "execution_count": 18
        },
        {
          "output_type": "display_data",
          "data": {
            "image/png": "[encoded data removed]",
            "text/plain": [
              "<Figure size 432x288 with 1 Axes>"
            ]
          },
          "metadata": {
            "tags": []
          }
        }
      ]
    },
    {
      "cell_type": "markdown",
      "metadata": {
        "id": "EMONemKr8YaU",
        "colab_type": "text"
      },
      "source": [
        "##Compound Returns, Std Deviation & Code\n",
        "\n",
        "\n",
        "\n"
      ]
    },
    {
      "cell_type": "code",
      "metadata": {
        "id": "LUzSBRiA6Vev",
        "colab_type": "code",
        "colab": {
          "base_uri": "https://localhost:8080/",
          "height": 102
        },
        "outputId": "8d793504-67a8-448e-ddf1-d8ed997014bf"
      },
      "source": [
        "print(returns.mean(),returns.std())"
      ],
      "execution_count": 19,
      "outputs": [
        {
          "output_type": "stream",
          "text": [
            "BLUE      0.01\n",
            "ORANGE    0.01\n",
            "dtype: float64 BLUE      0.023977\n",
            "ORANGE    0.079601\n",
            "dtype: float64\n"
          ],
          "name": "stdout"
        }
      ]
    },
    {
      "cell_type": "code",
      "metadata": {
        "id": "CmqKnbdy8BAA",
        "colab_type": "code",
        "colab": {
          "base_uri": "https://localhost:8080/",
          "height": 68
        },
        "outputId": "d1c29d8d-7283-449b-88b2-f3e0996a6ad1"
      },
      "source": [
        "round((returns+1).product()-1,4)*100"
      ],
      "execution_count": 22,
      "outputs": [
        {
          "output_type": "execute_result",
          "data": {
            "text/plain": [
              "BLUE      12.33\n",
              "ORANGE     8.72\n",
              "dtype: float64"
            ]
          },
          "metadata": {
            "tags": []
          },
          "execution_count": 22
        }
      ]
    },
    {
      "cell_type": "markdown",
      "metadata": {
        "id": "QdKSXgZc86iO",
        "colab_type": "text"
      },
      "source": [
        "## Annualization"
      ]
    },
    {
      "cell_type": "code",
      "metadata": {
        "id": "luNpsjrB89B2",
        "colab_type": "code",
        "colab": {
          "base_uri": "https://localhost:8080/",
          "height": 34
        },
        "outputId": "da68aa28-4ddb-49a7-cec0-af10ebd988fe"
      },
      "source": [
        "rm=0.01; rq=0.04; rd=0.0001\n",
        "(np.array([(1+rm)**12-1,(1+rq)**4-1, (1+rd)**252-1])-np.array([12*rm,4*rq,252*rd])).round(3)"
      ],
      "execution_count": 31,
      "outputs": [
        {
          "output_type": "execute_result",
          "data": {
            "text/plain": [
              "array([0.007, 0.01 , 0.   ])"
            ]
          },
          "metadata": {
            "tags": []
          },
          "execution_count": 31
        }
      ]
    }
  ]
}