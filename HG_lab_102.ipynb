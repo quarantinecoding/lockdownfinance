{
  "nbformat": 4,
  "nbformat_minor": 0,
  "metadata": {
    "colab": {
      "name": "Untitled2.ipynb",
      "provenance": [],
      "collapsed_sections": [],
      "toc_visible": true,
      "mount_file_id": "1aKu6IatIgjzH7bv5HuHO-uZApaunMDAy",
      "authorship_tag": "ABX9TyPIs4h3V4MBtMjmw64+xuVT",
      "include_colab_link": true
    },
    "kernelspec": {
      "name": "python3",
      "display_name": "Python 3"
    }
  },
  "cells": [
    {
      "cell_type": "markdown",
      "metadata": {
        "id": "view-in-github",
        "colab_type": "text"
      },
      "source": [
        "<a href=\"https://colab.research.google.com/github/quarantinecoding/lockdownfinance/blob/master/HG_lab_102.ipynb\" target=\"_parent\"><img src=\"https://colab.research.google.com/assets/colab-badge.svg\" alt=\"Open In Colab\"/></a>"
      ]
    },
    {
      "cell_type": "code",
      "metadata": {
        "id": "EHRG_f-9Jeh-",
        "colab_type": "code",
        "colab": {}
      },
      "source": [
        "import pandas as pd\n",
        "masterdata=pd.read_csv(\"drive/My Drive/Colab Notebooks/data/sample_prices.csv\")"
      ],
      "execution_count": 0,
      "outputs": []
    },
    {
      "cell_type": "code",
      "metadata": {
        "id": "BrDn2_Y1KdcO",
        "colab_type": "code",
        "colab": {}
      },
      "source": [
        "returns=masterdata.pct_change()"
      ],
      "execution_count": 0,
      "outputs": []
    },
    {
      "cell_type": "markdown",
      "metadata": {
        "id": "YCr0cWUVNpSl",
        "colab_type": "text"
      },
      "source": [
        "## Variance - from first principles (incorrect as mean not adjusted)"
      ]
    },
    {
      "cell_type": "code",
      "metadata": {
        "id": "dmm1NwIfKfhA",
        "colab_type": "code",
        "colab": {}
      },
      "source": [
        "sumofsquares=((returns-returns.mean())**2).agg(\"sum\")"
      ],
      "execution_count": 0,
      "outputs": []
    },
    {
      "cell_type": "code",
      "metadata": {
        "id": "K3UxpsVjLHaQ",
        "colab_type": "code",
        "colab": {
          "base_uri": "https://localhost:8080/",
          "height": 68
        },
        "outputId": "e41ddc57-2fef-489e-8c68-1ebe30f99873"
      },
      "source": [
        "sumofsquares/returns.count()"
      ],
      "execution_count": 5,
      "outputs": [
        {
          "output_type": "execute_result",
          "data": {
            "text/plain": [
              "BLUE      0.000527\n",
              "ORANGE    0.005808\n",
              "dtype: float64"
            ]
          },
          "metadata": {
            "tags": []
          },
          "execution_count": 5
        }
      ]
    },
    {
      "cell_type": "code",
      "metadata": {
        "id": "DXcd2LLBMsZB",
        "colab_type": "code",
        "colab": {
          "base_uri": "https://localhost:8080/",
          "height": 68
        },
        "outputId": "270e2029-4f6c-4b72-aa52-8437d62b92ef"
      },
      "source": [
        "((returns-returns.mean())**2).mean()"
      ],
      "execution_count": 6,
      "outputs": [
        {
          "output_type": "execute_result",
          "data": {
            "text/plain": [
              "BLUE      0.000527\n",
              "ORANGE    0.005808\n",
              "dtype: float64"
            ]
          },
          "metadata": {
            "tags": []
          },
          "execution_count": 6
        }
      ]
    },
    {
      "cell_type": "code",
      "metadata": {
        "id": "Q-D8PGboOkwf",
        "colab_type": "code",
        "colab": {
          "base_uri": "https://localhost:8080/",
          "height": 68
        },
        "outputId": "c40817e2-170f-4041-abf7-cec7828540cc"
      },
      "source": [
        "print((sumofsquares/returns.count())**0.5)"
      ],
      "execution_count": 7,
      "outputs": [
        {
          "output_type": "stream",
          "text": [
            "BLUE      0.022957\n",
            "ORANGE    0.076212\n",
            "dtype: float64\n"
          ],
          "name": "stdout"
        }
      ]
    },
    {
      "cell_type": "markdown",
      "metadata": {
        "id": "8nhz8nTtNh9c",
        "colab_type": "text"
      },
      "source": [
        "##Variance in Single line (incorrect as mean not adjusted)\n"
      ]
    },
    {
      "cell_type": "code",
      "metadata": {
        "id": "K6XfVrG3M9FE",
        "colab_type": "code",
        "colab": {}
      },
      "source": [
        "variance=(((returns-returns.mean())**2).mean())**0.5"
      ],
      "execution_count": 0,
      "outputs": []
    },
    {
      "cell_type": "code",
      "metadata": {
        "id": "G0LleOQRNcfy",
        "colab_type": "code",
        "colab": {
          "base_uri": "https://localhost:8080/",
          "height": 68
        },
        "outputId": "1fb1ed3a-8ef1-48dc-ccb3-3c142b4ce4e9"
      },
      "source": [
        "print(variance)"
      ],
      "execution_count": 9,
      "outputs": [
        {
          "output_type": "stream",
          "text": [
            "BLUE      0.022957\n",
            "ORANGE    0.076212\n",
            "dtype: float64\n"
          ],
          "name": "stdout"
        }
      ]
    },
    {
      "cell_type": "markdown",
      "metadata": {
        "id": "y6F5RsUyPWpE",
        "colab_type": "text"
      },
      "source": [
        "## Variance (mean adjusted)"
      ]
    },
    {
      "cell_type": "code",
      "metadata": {
        "id": "2prcm_m2PdEP",
        "colab_type": "code",
        "colab": {
          "base_uri": "https://localhost:8080/",
          "height": 68
        },
        "outputId": "2208c0cb-cee2-4d35-de8f-3786968618b3"
      },
      "source": [
        "(sumofsquares/(returns.dropna().shape[0]-1))**0.5"
      ],
      "execution_count": 10,
      "outputs": [
        {
          "output_type": "execute_result",
          "data": {
            "text/plain": [
              "BLUE      0.023977\n",
              "ORANGE    0.079601\n",
              "dtype: float64"
            ]
          },
          "metadata": {
            "tags": []
          },
          "execution_count": 10
        }
      ]
    },
    {
      "cell_type": "code",
      "metadata": {
        "id": "1sWPCN_FdD3N",
        "colab_type": "code",
        "colab": {
          "base_uri": "https://localhost:8080/",
          "height": 68
        },
        "outputId": "b7b27b26-8f20-43d8-93cc-df5822e77fda"
      },
      "source": [
        "returns.std()"
      ],
      "execution_count": 11,
      "outputs": [
        {
          "output_type": "execute_result",
          "data": {
            "text/plain": [
              "BLUE      0.023977\n",
              "ORANGE    0.079601\n",
              "dtype: float64"
            ]
          },
          "metadata": {
            "tags": []
          },
          "execution_count": 11
        }
      ]
    },
    {
      "cell_type": "code",
      "metadata": {
        "id": "HiL2PPjQTiik",
        "colab_type": "code",
        "colab": {}
      },
      "source": [
        ""
      ],
      "execution_count": 0,
      "outputs": []
    },
    {
      "cell_type": "markdown",
      "metadata": {
        "id": "a01Zt5c_UGF1",
        "colab_type": "text"
      },
      "source": [
        "## Imported market data"
      ]
    },
    {
      "cell_type": "code",
      "metadata": {
        "id": "OvfKl_wEUJl8",
        "colab_type": "code",
        "colab": {}
      },
      "source": [
        "portfoliodata=pd.read_csv(\"/content/drive/My Drive/Colab Notebooks/data/Portfolios_Formed_on_ME_monthly_EW.csv\",index_col=0)"
      ],
      "execution_count": 0,
      "outputs": []
    },
    {
      "cell_type": "code",
      "metadata": {
        "id": "ha-IigQfUw3T",
        "colab_type": "code",
        "colab": {
          "base_uri": "https://localhost:8080/",
          "height": 34
        },
        "outputId": "c5666194-fb93-40ff-83e6-3fb99a864b12"
      },
      "source": [
        "portfoliodata.shape"
      ],
      "execution_count": 16,
      "outputs": [
        {
          "output_type": "execute_result",
          "data": {
            "text/plain": [
              "(1110, 19)"
            ]
          },
          "metadata": {
            "tags": []
          },
          "execution_count": 16
        }
      ]
    },
    {
      "cell_type": "code",
      "metadata": {
        "id": "EvRTa6raU2uZ",
        "colab_type": "code",
        "colab": {
          "base_uri": "https://localhost:8080/",
          "height": 119
        },
        "outputId": "7344ddde-1933-4efe-cc92-a72e1b5f9e42"
      },
      "source": [
        "portfoliodata.index"
      ],
      "execution_count": 17,
      "outputs": [
        {
          "output_type": "execute_result",
          "data": {
            "text/plain": [
              "Int64Index([192607, 192608, 192609, 192610, 192611, 192612, 192701, 192702,\n",
              "            192703, 192704,\n",
              "            ...\n",
              "            201803, 201804, 201805, 201806, 201807, 201808, 201809, 201810,\n",
              "            201811, 201812],\n",
              "           dtype='int64', length=1110)"
            ]
          },
          "metadata": {
            "tags": []
          },
          "execution_count": 17
        }
      ]
    },
    {
      "cell_type": "code",
      "metadata": {
        "id": "9tOyECnHU8am",
        "colab_type": "code",
        "colab": {
          "base_uri": "https://localhost:8080/",
          "height": 85
        },
        "outputId": "64253e1f-8d35-4388-c662-3f6b295557fd"
      },
      "source": [
        "portfoliodata.columns"
      ],
      "execution_count": 18,
      "outputs": [
        {
          "output_type": "execute_result",
          "data": {
            "text/plain": [
              "Index(['<= 0', 'Lo 30', 'Med 40', 'Hi 30', 'Lo 20', 'Qnt 2', 'Qnt 3', 'Qnt 4',\n",
              "       'Hi 20', 'Lo 10', 'Dec 2', 'Dec 3', 'Dec 4', 'Dec 5', 'Dec 6', 'Dec 7',\n",
              "       'Dec 8', 'Dec 9', 'Hi 10'],\n",
              "      dtype='object')"
            ]
          },
          "metadata": {
            "tags": []
          },
          "execution_count": 18
        }
      ]
    },
    {
      "cell_type": "code",
      "metadata": {
        "id": "lKzmwbXkU_bQ",
        "colab_type": "code",
        "colab": {}
      },
      "source": [
        "portfolio_var=portfoliodata.std()"
      ],
      "execution_count": 0,
      "outputs": []
    },
    {
      "cell_type": "code",
      "metadata": {
        "id": "5vhd1nrYVFsk",
        "colab_type": "code",
        "colab": {
          "base_uri": "https://localhost:8080/",
          "height": 357
        },
        "outputId": "1cf166dd-0400-44ad-d997-1db7e3802f70"
      },
      "source": [
        "portfolio_var"
      ],
      "execution_count": 30,
      "outputs": [
        {
          "output_type": "execute_result",
          "data": {
            "text/plain": [
              "<= 0      1.762940e-12\n",
              "Lo 30     9.121026e+00\n",
              "Med 40    7.066472e+00\n",
              "Hi 30     5.815717e+00\n",
              "Lo 20     9.719729e+00\n",
              "Qnt 2     7.928957e+00\n",
              "Qnt 3     7.048299e+00\n",
              "Qnt 4     6.393745e+00\n",
              "Hi 20     5.632515e+00\n",
              "Lo 10     1.062882e+01\n",
              "Dec 2     9.117535e+00\n",
              "Dec 3     8.192778e+00\n",
              "Dec 4     7.723223e+00\n",
              "Dec 5     7.212501e+00\n",
              "Dec 6     6.932748e+00\n",
              "Dec 7     6.592381e+00\n",
              "Dec 8     6.262746e+00\n",
              "Dec 9     5.953184e+00\n",
              "Hi 10     5.390026e+00\n",
              "dtype: float64"
            ]
          },
          "metadata": {
            "tags": []
          },
          "execution_count": 30
        }
      ]
    },
    {
      "cell_type": "code",
      "metadata": {
        "id": "R3bbsRFcVK-x",
        "colab_type": "code",
        "colab": {
          "base_uri": "https://localhost:8080/",
          "height": 357
        },
        "outputId": "a86ece5a-a0bd-49f8-80ac-8fcae7f7adea"
      },
      "source": [
        "(((portfoliodata-portfoliodata.mean())**2).sum()/(portfoliodata.shape[0]-1))**0.5"
      ],
      "execution_count": 27,
      "outputs": [
        {
          "output_type": "execute_result",
          "data": {
            "text/plain": [
              "<= 0      1.762940e-12\n",
              "Lo 30     9.121026e+00\n",
              "Med 40    7.066472e+00\n",
              "Hi 30     5.815717e+00\n",
              "Lo 20     9.719729e+00\n",
              "Qnt 2     7.928957e+00\n",
              "Qnt 3     7.048299e+00\n",
              "Qnt 4     6.393745e+00\n",
              "Hi 20     5.632515e+00\n",
              "Lo 10     1.062882e+01\n",
              "Dec 2     9.117535e+00\n",
              "Dec 3     8.192778e+00\n",
              "Dec 4     7.723223e+00\n",
              "Dec 5     7.212501e+00\n",
              "Dec 6     6.932748e+00\n",
              "Dec 7     6.592381e+00\n",
              "Dec 8     6.262746e+00\n",
              "Dec 9     5.953184e+00\n",
              "Hi 10     5.390026e+00\n",
              "dtype: float64"
            ]
          },
          "metadata": {
            "tags": []
          },
          "execution_count": 27
        }
      ]
    },
    {
      "cell_type": "code",
      "metadata": {
        "id": "FMg_aXRFXiQ_",
        "colab_type": "code",
        "colab": {
          "base_uri": "https://localhost:8080/",
          "height": 363
        },
        "outputId": "7cf7ecb4-c89e-4718-8771-55b0dc79d5a8"
      },
      "source": [
        "portfolio_var[1:].plot(\"bar\")"
      ],
      "execution_count": 39,
      "outputs": [
        {
          "output_type": "stream",
          "text": [
            "/usr/local/lib/python3.6/dist-packages/ipykernel_launcher.py:1: FutureWarning: `Series.plot()` should not be called with positional arguments, only keyword arguments. The order of positional arguments will change in the future. Use `Series.plot(kind='bar')` instead of `Series.plot('bar',)`.\n",
            "  \"\"\"Entry point for launching an IPython kernel.\n"
          ],
          "name": "stderr"
        },
        {
          "output_type": "execute_result",
          "data": {
            "text/plain": [
              "<matplotlib.axes._subplots.AxesSubplot at 0x7f3ca9c495c0>"
            ]
          },
          "metadata": {
            "tags": []
          },
          "execution_count": 39
        },
        {
          "output_type": "display_data",
          "data": {
            "image/png": "[encoded data removed]",
            "text/plain": [
              "<Figure size 432x288 with 1 Axes>"
            ]
          },
          "metadata": {
            "tags": []
          }
        }
      ]
    },
    {
      "cell_type": "code",
      "metadata": {
        "id": "8fRe_uOvX7Qa",
        "colab_type": "code",
        "colab": {
          "base_uri": "https://localhost:8080/",
          "height": 363
        },
        "outputId": "7e17e205-3d0e-4c82-c51f-7ba335baf34f"
      },
      "source": [
        "portfoliodata.mean()[1:].plot(\"bar\")"
      ],
      "execution_count": 36,
      "outputs": [
        {
          "output_type": "stream",
          "text": [
            "/usr/local/lib/python3.6/dist-packages/ipykernel_launcher.py:1: FutureWarning: `Series.plot()` should not be called with positional arguments, only keyword arguments. The order of positional arguments will change in the future. Use `Series.plot(kind='bar')` instead of `Series.plot('bar',)`.\n",
            "  \"\"\"Entry point for launching an IPython kernel.\n"
          ],
          "name": "stderr"
        },
        {
          "output_type": "execute_result",
          "data": {
            "text/plain": [
              "<matplotlib.axes._subplots.AxesSubplot at 0x7f3ca9b6cef0>"
            ]
          },
          "metadata": {
            "tags": []
          },
          "execution_count": 36
        },
        {
          "output_type": "display_data",
          "data": {
            "image/png": "[encoded data removed]",
            "text/plain": [
              "<Figure size 432x288 with 1 Axes>"
            ]
          },
          "metadata": {
            "tags": []
          }
        }
      ]
    },
    {
      "cell_type": "code",
      "metadata": {
        "id": "VDolwo1LY1JS",
        "colab_type": "code",
        "colab": {
          "base_uri": "https://localhost:8080/",
          "height": 282
        },
        "outputId": "ff639071-73b7-4697-8890-74c03cb3cc2e"
      },
      "source": [
        "import matplotlib.pyplot as plt\n",
        "\n",
        "plt.plot(portfoliodata.mean()[1:],\"red\")\n",
        "plt.plot(portfolio_var[1:],\"green\")"
      ],
      "execution_count": 43,
      "outputs": [
        {
          "output_type": "execute_result",
          "data": {
            "text/plain": [
              "[<matplotlib.lines.Line2D at 0x7f3ca91e4ac8>]"
            ]
          },
          "metadata": {
            "tags": []
          },
          "execution_count": 43
        },
        {
          "output_type": "display_data",
          "data": {
            "image/png": "[encoded data removed]",
            "text/plain": [
              "<Figure size 432x288 with 1 Axes>"
            ]
          },
          "metadata": {
            "tags": []
          }
        }
      ]
    },
    {
      "cell_type": "code",
      "metadata": {
        "id": "V79XSFM7dMh1",
        "colab_type": "code",
        "colab": {
          "base_uri": "https://localhost:8080/",
          "height": 300
        },
        "outputId": "844790c0-3d6d-404e-9ab8-a604a9b50eaa"
      },
      "source": [
        "plt.plot(portfoliodata[[\"Lo 10\",\"Hi 10\"]])"
      ],
      "execution_count": 47,
      "outputs": [
        {
          "output_type": "execute_result",
          "data": {
            "text/plain": [
              "[<matplotlib.lines.Line2D at 0x7f3ca9192d68>,\n",
              " <matplotlib.lines.Line2D at 0x7f3ca9192e80>]"
            ]
          },
          "metadata": {
            "tags": []
          },
          "execution_count": 47
        },
        {
          "output_type": "display_data",
          "data": {
            "image/png": "[encoded data removed]",
            "text/plain": [
              "<Figure size 432x288 with 1 Axes>"
            ]
          },
          "metadata": {
            "tags": []
          }
        }
      ]
    },
    {
      "cell_type": "markdown",
      "metadata": {
        "id": "rzXoct-mexB1",
        "colab_type": "text"
      },
      "source": [
        "## Annualized Standard deviation and Annualized Return"
      ]
    },
    {
      "cell_type": "code",
      "metadata": {
        "id": "zBcIze1kd8Jb",
        "colab_type": "code",
        "colab": {}
      },
      "source": [
        "largeandsmallcaps=portfoliodata[[\"Lo 10\",\"Hi 10\"]]"
      ],
      "execution_count": 0,
      "outputs": []
    },
    {
      "cell_type": "code",
      "metadata": {
        "id": "kM84zWYweIfQ",
        "colab_type": "code",
        "colab": {
          "base_uri": "https://localhost:8080/",
          "height": 68
        },
        "outputId": "e3df03cf-8160-4a60-b7aa-8398759042f8"
      },
      "source": [
        "## KEY FORMULA - Annualized standard deviation\n",
        "annualized_var=largeandsmallcaps.std()*(12**0.5)\n",
        "print(annualized_var)"
      ],
      "execution_count": 64,
      "outputs": [
        {
          "output_type": "stream",
          "text": [
            "Lo 10    36.819305\n",
            "Hi 10    18.671599\n",
            "dtype: float64\n"
          ],
          "name": "stdout"
        }
      ]
    },
    {
      "cell_type": "code",
      "metadata": {
        "id": "wMwNiX4Ofcae",
        "colab_type": "code",
        "colab": {
          "base_uri": "https://localhost:8080/",
          "height": 68
        },
        "outputId": "aa7011b0-b2c4-403b-ebe5-7f5fadb89347"
      },
      "source": [
        "## KEY FORMULA - Long term Annualized returns from monthly data\n",
        "annualized_return=(((1+largeandsmallcaps/100).prod())**(12/largeandsmallcaps.shape[0])-1)*100\n",
        "print(annualized_return)"
      ],
      "execution_count": 66,
      "outputs": [
        {
          "output_type": "stream",
          "text": [
            "Lo 10    16.746329\n",
            "Hi 10     9.280968\n",
            "dtype: float64\n"
          ],
          "name": "stdout"
        }
      ]
    },
    {
      "cell_type": "markdown",
      "metadata": {
        "id": "0x_yEks2hdyh",
        "colab_type": "text"
      },
      "source": [
        "## Return on Risk ratio & Sharpe Ratio"
      ]
    },
    {
      "cell_type": "code",
      "metadata": {
        "id": "rfhhYYRzg2Am",
        "colab_type": "code",
        "colab": {
          "base_uri": "https://localhost:8080/",
          "height": 119
        },
        "outputId": "f518897f-c9cb-45ed-877b-06abeb8be6f6"
      },
      "source": [
        "print(annualized_return/annualized_var)\n",
        "print((annualized_return-3)/annualized_var)"
      ],
      "execution_count": 67,
      "outputs": [
        {
          "output_type": "stream",
          "text": [
            "Lo 10    0.454825\n",
            "Hi 10    0.497063\n",
            "dtype: float64\n",
            "Lo 10    0.373346\n",
            "Hi 10    0.336392\n",
            "dtype: float64\n"
          ],
          "name": "stdout"
        }
      ]
    }
  ]
}