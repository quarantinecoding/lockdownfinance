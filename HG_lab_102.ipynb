{
  "nbformat": 4,
  "nbformat_minor": 0,
  "metadata": {
    "colab": {
      "name": "Untitled2.ipynb",
      "provenance": [],
      "collapsed_sections": [],
      "mount_file_id": "1aKu6IatIgjzH7bv5HuHO-uZApaunMDAy",
      "authorship_tag": "ABX9TyNey0W4hd9Tf5BZZv7BULwz",
      "include_colab_link": true
    },
    "kernelspec": {
      "name": "python3",
      "display_name": "Python 3"
    }
  },
  "cells": [
    {
      "cell_type": "markdown",
      "metadata": {
        "id": "view-in-github",
        "colab_type": "text"
      },
      "source": [
        "<a href=\"https://colab.research.google.com/github/quarantinecoding/lockdownfinance/blob/master/HG_lab_102.ipynb\" target=\"_parent\"><img src=\"https://colab.research.google.com/assets/colab-badge.svg\" alt=\"Open In Colab\"/></a>"
      ]
    },
    {
      "cell_type": "code",
      "metadata": {
        "id": "EHRG_f-9Jeh-",
        "colab_type": "code",
        "colab": {}
      },
      "source": [
        "import pandas as pd\n",
        "masterdata=pd.read_csv(\"drive/My Drive/Colab Notebooks/data/sample_prices.csv\")"
      ],
      "execution_count": 0,
      "outputs": []
    },
    {
      "cell_type": "code",
      "metadata": {
        "id": "BrDn2_Y1KdcO",
        "colab_type": "code",
        "colab": {}
      },
      "source": [
        "returns=masterdata.pct_change()"
      ],
      "execution_count": 0,
      "outputs": []
    },
    {
      "cell_type": "markdown",
      "metadata": {
        "id": "YCr0cWUVNpSl",
        "colab_type": "text"
      },
      "source": [
        "## Variance - from first principles (incorrect as mean not adjusted)"
      ]
    },
    {
      "cell_type": "code",
      "metadata": {
        "id": "dmm1NwIfKfhA",
        "colab_type": "code",
        "colab": {}
      },
      "source": [
        "sumofsquares=((returns-returns.mean())**2).agg(\"sum\")"
      ],
      "execution_count": 0,
      "outputs": []
    },
    {
      "cell_type": "code",
      "metadata": {
        "id": "K3UxpsVjLHaQ",
        "colab_type": "code",
        "colab": {
          "base_uri": "https://localhost:8080/",
          "height": 68
        },
        "outputId": "fc796a31-b126-4476-e4f6-1094b017390b"
      },
      "source": [
        "sumofsquares/returns.count()"
      ],
      "execution_count": 11,
      "outputs": [
        {
          "output_type": "execute_result",
          "data": {
            "text/plain": [
              "BLUE      0.000527\n",
              "ORANGE    0.005808\n",
              "dtype: float64"
            ]
          },
          "metadata": {
            "tags": []
          },
          "execution_count": 11
        }
      ]
    },
    {
      "cell_type": "code",
      "metadata": {
        "id": "DXcd2LLBMsZB",
        "colab_type": "code",
        "colab": {
          "base_uri": "https://localhost:8080/",
          "height": 68
        },
        "outputId": "236ba9b4-fd01-43e7-d12e-fe109f70c987"
      },
      "source": [
        "((returns-returns.mean())**2).mean()"
      ],
      "execution_count": 13,
      "outputs": [
        {
          "output_type": "execute_result",
          "data": {
            "text/plain": [
              "BLUE      0.000527\n",
              "ORANGE    0.005808\n",
              "dtype: float64"
            ]
          },
          "metadata": {
            "tags": []
          },
          "execution_count": 13
        }
      ]
    },
    {
      "cell_type": "code",
      "metadata": {
        "id": "Q-D8PGboOkwf",
        "colab_type": "code",
        "colab": {
          "base_uri": "https://localhost:8080/",
          "height": 68
        },
        "outputId": "4da05afe-5d74-4092-ca75-86d2e1cb8b5f"
      },
      "source": [
        "print((sumofsquares/returns.count())**0.5)"
      ],
      "execution_count": 20,
      "outputs": [
        {
          "output_type": "stream",
          "text": [
            "BLUE      0.022957\n",
            "ORANGE    0.076212\n",
            "dtype: float64\n"
          ],
          "name": "stdout"
        }
      ]
    },
    {
      "cell_type": "markdown",
      "metadata": {
        "id": "8nhz8nTtNh9c",
        "colab_type": "text"
      },
      "source": [
        "##Variance in Single line (incorrect as mean not adjusted)\n"
      ]
    },
    {
      "cell_type": "code",
      "metadata": {
        "id": "K6XfVrG3M9FE",
        "colab_type": "code",
        "colab": {}
      },
      "source": [
        "variance=(((returns-returns.mean())**2).mean())**0.5"
      ],
      "execution_count": 0,
      "outputs": []
    },
    {
      "cell_type": "code",
      "metadata": {
        "id": "G0LleOQRNcfy",
        "colab_type": "code",
        "colab": {
          "base_uri": "https://localhost:8080/",
          "height": 68
        },
        "outputId": "3af6f15f-c20c-4610-bca2-109b02021ab6"
      },
      "source": [
        "print(variance)"
      ],
      "execution_count": 15,
      "outputs": [
        {
          "output_type": "stream",
          "text": [
            "BLUE      0.022957\n",
            "ORANGE    0.076212\n",
            "dtype: float64\n"
          ],
          "name": "stdout"
        }
      ]
    },
    {
      "cell_type": "markdown",
      "metadata": {
        "id": "y6F5RsUyPWpE",
        "colab_type": "text"
      },
      "source": [
        "## Variance (mean adjusted)"
      ]
    },
    {
      "cell_type": "code",
      "metadata": {
        "id": "2prcm_m2PdEP",
        "colab_type": "code",
        "colab": {}
      },
      "source": [
        ""
      ],
      "execution_count": 0,
      "outputs": []
    }
  ]
}