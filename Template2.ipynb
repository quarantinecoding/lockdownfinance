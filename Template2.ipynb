{
  "nbformat": 4,
  "nbformat_minor": 0,
  "metadata": {
    "colab": {
      "name": "Template2.ipynb",
      "provenance": [],
      "collapsed_sections": [],
      "authorship_tag": "ABX9TyP9wygkPOmFVZEFPNtjFDvx",
      "include_colab_link": true
    },
    "kernelspec": {
      "name": "python3",
      "display_name": "Python 3"
    }
  },
  "cells": [
    {
      "cell_type": "markdown",
      "metadata": {
        "id": "view-in-github",
        "colab_type": "text"
      },
      "source": [
        "<a href=\"https://colab.research.google.com/github/quarantinecoding/lockdownfinance/blob/master/Template2.ipynb\" target=\"_parent\"><img src=\"https://colab.research.google.com/assets/colab-badge.svg\" alt=\"Open In Colab\"/></a>"
      ]
    },
    {
      "cell_type": "code",
      "metadata": {
        "id": "n82noZA17Ir8",
        "colab_type": "code",
        "colab": {}
      },
      "source": [
        "pip install world_bank_data --upgrade"
      ],
      "execution_count": 0,
      "outputs": []
    },
    {
      "cell_type": "code",
      "metadata": {
        "id": "Qp7_Nlq56P4_",
        "colab_type": "code",
        "colab": {}
      },
      "source": [
        "import pandas as pd\n",
        "import world_bank_data as wb\n",
        "pd.set_option('display.max_rows', 6)"
      ],
      "execution_count": 0,
      "outputs": []
    },
    {
      "cell_type": "code",
      "metadata": {
        "id": "JPfpFXFgHX2P",
        "colab_type": "code",
        "colab": {}
      },
      "source": [
        "pd.set_option('display.max_rows', 100)"
      ],
      "execution_count": 0,
      "outputs": []
    },
    {
      "cell_type": "code",
      "metadata": {
        "id": "rVuv6Zop6Qql",
        "colab_type": "code",
        "colab": {}
      },
      "source": [
        "wb.get_topics()"
      ],
      "execution_count": 0,
      "outputs": []
    },
    {
      "cell_type": "code",
      "metadata": {
        "id": "tCvEeSExHnaL",
        "colab_type": "code",
        "colab": {}
      },
      "source": [
        "wb.get_countries()"
      ],
      "execution_count": 0,
      "outputs": []
    },
    {
      "cell_type": "code",
      "metadata": {
        "id": "UlbpRHQcHM77",
        "colab_type": "code",
        "colab": {}
      },
      "source": [
        "wb.get_sources()"
      ],
      "execution_count": 0,
      "outputs": []
    },
    {
      "cell_type": "code",
      "metadata": {
        "id": "Q5uHTt09Hx3w",
        "colab_type": "code",
        "colab": {}
      },
      "source": [
        "wb.get_indicators(topic=3, source=2)"
      ],
      "execution_count": 0,
      "outputs": []
    },
    {
      "cell_type": "code",
      "metadata": {
        "id": "LRClG-AXIPa-",
        "colab_type": "code",
        "colab": {}
      },
      "source": [
        "pop=wb.get_series('SP.POP.TOTL', date='2018', id_or_value='id', simplify_index=True)"
      ],
      "execution_count": 0,
      "outputs": []
    },
    {
      "cell_type": "code",
      "metadata": {
        "id": "8lv6sX-YIhU6",
        "colab_type": "code",
        "colab": {
          "base_uri": "https://localhost:8080/",
          "height": 34
        },
        "outputId": "8fa62bd7-ae12-463f-e0e0-cf89206ae8d0"
      },
      "source": [
        "pop[\"IND\"]"
      ],
      "execution_count": 20,
      "outputs": [
        {
          "output_type": "execute_result",
          "data": {
            "text/plain": [
              "1352617328.0"
            ]
          },
          "metadata": {
            "tags": []
          },
          "execution_count": 20
        }
      ]
    }
  ]
}